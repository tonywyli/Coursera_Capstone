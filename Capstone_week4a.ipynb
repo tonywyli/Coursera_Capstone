{
 "cells": [
  {
   "cell_type": "markdown",
   "metadata": {},
   "source": [
    "# Capstone Project - Matching Singapore and Hong Kong (Week 4)\n",
    "### Applied Data Science Capstone by IBM/Coursera"
   ]
  },
  {
   "cell_type": "markdown",
   "metadata": {},
   "source": [
    "\n",
    "\n",
    "## Introduction: Business Problem <a name=\"introduction\"></a>"
   ]
  },
  {
   "cell_type": "markdown",
   "metadata": {},
   "source": [
    "Hong Kong and Singapore are two major cities in Asia. While Hong Kong is a special administrative region of the People’s Republic of China and Singapore is an independent city state, they have a lot in common. Both are former British colonies, in addition to being two of the world’s busiest port cities and top financial centres. Hong Kong is often believed to be more lively and dynamic, but less friendly and a bit more gritty, whereas Singapore is seen as being more sanitised, but less cramped with more pleasant surroundings. \n",
    "\n",
    "Recently, a lot of people in Hong Kong decided to leave their home town for good and immigrate to Singapore. We would like to use data science analysis to help these people to choose districts in Singapore which resemble their native environment in Hong Kong.  \n",
    "People who would be interested in the findings:\n",
    "-\tHong Kong natives who plan to immigrate to Singapore or those that would stay there for a long period.\n",
    "-\tReal estate agencies in Hong Kong who are helping their customers in Hong Kong to buy or rent properties in Singapore.\n"
   ]
  },
  {
   "cell_type": "code",
   "execution_count": null,
   "metadata": {},
   "outputs": [],
   "source": []
  }
 ],
 "metadata": {
  "kernelspec": {
   "display_name": "Python 3",
   "language": "python",
   "name": "python3"
  },
  "language_info": {
   "codemirror_mode": {
    "name": "ipython",
    "version": 3
   },
   "file_extension": ".py",
   "mimetype": "text/x-python",
   "name": "python",
   "nbconvert_exporter": "python",
   "pygments_lexer": "ipython3",
   "version": "3.7.3"
  }
 },
 "nbformat": 4,
 "nbformat_minor": 2
}
