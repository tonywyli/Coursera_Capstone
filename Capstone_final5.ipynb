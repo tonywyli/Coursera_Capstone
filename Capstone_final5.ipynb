{
 "cells": [
  {
   "cell_type": "markdown",
   "metadata": {},
   "source": [
    "# Capstone Project - The Battle of the Neighborhoods (Week 5\n",
    "### Applied Data Science Capstone by IBM/Coursera"
   ]
  },
  {
   "cell_type": "markdown",
   "metadata": {},
   "source": [
    "## Table of contents\n",
    "* [Introduction: Business Problem](#introduction)\n",
    "* [Data](#data)\n",
    "* [Methodology](#methodology)\n",
    "* [Analysis](#analysis)\n",
    "* [Results and Discussion](#results)\n",
    "* [Conclusion](#conclusion)"
   ]
  },
  {
   "cell_type": "markdown",
   "metadata": {},
   "source": [
    "\n",
    "\n",
    "## Introduction: Business Problem <a name=\"introduction\"></a>"
   ]
  },
  {
   "cell_type": "markdown",
   "metadata": {},
   "source": [
    "**AT20** is a fitness studio group in mainland China specialized in Electrical Muscle Stimulation (EMS) training.  AT20 claims that the new training method leads to seriously impressive results in short periods of time. People could reap the benefits of a comparable hour-long workout in less than 20 minutes or less. \n",
    "Focused customers of AT20 are busy office workers who work long hours and don’t have the luxury for long hour physical exercise. According to experience, AT20 studio is ideally located **near subway station**.   \n",
    "Management of AT20 plans to set up shops in Hong Kong that could meet the following criteria:\n",
    "1. **within 1.5km from major MTR stations** (subway of Hong Kong)\n",
    "2. in neighborhood that the **number of fitness centers are not saturated** (less competition) \n",
    "\n",
    "We would like to employ data science analysis techniques to help AT20 to decide the best locations to set up training studios.\n",
    "\n",
    "People who would be interested in the findings are:\n",
    "1. Management of AT20 who have to decide the locations of their new studios in Hong Kong\n",
    "2. People who are interested in setting up fitness centers/Gym  business in Hong Kong. \n"
   ]
  },
  {
   "cell_type": "markdown",
   "metadata": {},
   "source": [
    "## Data <a name=\"data\"></a>"
   ]
  },
  {
   "cell_type": "markdown",
   "metadata": {},
   "source": [
    "As AT20's new studio needs to be located near major MTR stations where the number of fitness centers/Gym is not saturated,the following data is required:\n",
    "1. List of MTR stations in Hong Kong - this could be obtained from wikipedia (https://en.wikipedia.org/wiki/List_of_MTR_stations)\n",
    "2. Numbers of fitness centers/Gym within 1.5km radius in each MTR stations - via API query of foursquare.com\n",
    "3. Population density of districts where each MTR stations are located - obtain from wikipedia (https://en.wikipedia.org/wiki/Districts_of_Hong_Kong) "
   ]
  },
  {
   "cell_type": "markdown",
   "metadata": {},
   "source": [
    "**Obtain list of MTR stations from wikipedia**\n",
    "\n",
    "First, we have to obtain list of Hong Kong's MTR station from Wikipedia (https://en.wikipedia.org/wiki/List_of_MTR_stations).\n",
    "Names of MTR stations were captured and saved in a cvs file (MTR_stations.csv)"
   ]
  },
  {
   "cell_type": "code",
   "execution_count": 87,
   "metadata": {},
   "outputs": [],
   "source": [
    "import numpy as np\n",
    "import pandas as pd\n",
    "import requests # library to handle requests\n",
    "from pandas.io.json import json_normalize # tranform JSON file into a pandas dataframe\n",
    "import matplotlib.cm as cm\n",
    "import matplotlib.colors as colors\n",
    "from sklearn.cluster import KMeans\n",
    "from geopy.geocoders import Nominatim # convert an address into latitude and longitude values\n",
    "import folium # map rendering library\n",
    "from folium.plugins import HeatMap\n",
    "import json\n",
    "import math"
   ]
  },
  {
   "cell_type": "code",
   "execution_count": 5,
   "metadata": {},
   "outputs": [
    {
     "data": {
      "text/html": [
       "<div>\n",
       "<style scoped>\n",
       "    .dataframe tbody tr th:only-of-type {\n",
       "        vertical-align: middle;\n",
       "    }\n",
       "\n",
       "    .dataframe tbody tr th {\n",
       "        vertical-align: top;\n",
       "    }\n",
       "\n",
       "    .dataframe thead th {\n",
       "        text-align: right;\n",
       "    }\n",
       "</style>\n",
       "<table border=\"1\" class=\"dataframe\">\n",
       "  <thead>\n",
       "    <tr style=\"text-align: right;\">\n",
       "      <th></th>\n",
       "      <th>MTRStation</th>\n",
       "      <th>longitude</th>\n",
       "      <th>latitude</th>\n",
       "    </tr>\n",
       "  </thead>\n",
       "  <tbody>\n",
       "    <tr>\n",
       "      <td>0</td>\n",
       "      <td>MTR Admiralty station</td>\n",
       "      <td>0</td>\n",
       "      <td>0</td>\n",
       "    </tr>\n",
       "    <tr>\n",
       "      <td>1</td>\n",
       "      <td>MTR Causeway Bay station</td>\n",
       "      <td>0</td>\n",
       "      <td>0</td>\n",
       "    </tr>\n",
       "    <tr>\n",
       "      <td>2</td>\n",
       "      <td>MTR Central station</td>\n",
       "      <td>0</td>\n",
       "      <td>0</td>\n",
       "    </tr>\n",
       "    <tr>\n",
       "      <td>3</td>\n",
       "      <td>MTR Chai Wan station</td>\n",
       "      <td>0</td>\n",
       "      <td>0</td>\n",
       "    </tr>\n",
       "    <tr>\n",
       "      <td>4</td>\n",
       "      <td>MTR Che Kung Temple station</td>\n",
       "      <td>0</td>\n",
       "      <td>0</td>\n",
       "    </tr>\n",
       "  </tbody>\n",
       "</table>\n",
       "</div>"
      ],
      "text/plain": [
       "                    MTRStation  longitude  latitude\n",
       "0        MTR Admiralty station          0         0\n",
       "1     MTR Causeway Bay station          0         0\n",
       "2          MTR Central station          0         0\n",
       "3         MTR Chai Wan station          0         0\n",
       "4  MTR Che Kung Temple station          0         0"
      ]
     },
     "execution_count": 5,
     "metadata": {},
     "output_type": "execute_result"
    }
   ],
   "source": [
    "MTR_hk = pd.read_csv(\"MTR_stations.csv\")\n",
    "MTR_hk.head()"
   ]
  },
  {
   "cell_type": "markdown",
   "metadata": {},
   "source": [
    "#### Obtain longtitude and latitude of each MTR stations"
   ]
  },
  {
   "cell_type": "code",
   "execution_count": 8,
   "metadata": {},
   "outputs": [],
   "source": [
    "# api key for google and foursquare\n",
    "google_api_key= ' '\n",
    "foursquare_client_id=' '\n",
    "foursquare_client_secret=' '\n",
    "VERSION = '20180605'"
   ]
  },
  {
   "cell_type": "code",
   "execution_count": 9,
   "metadata": {},
   "outputs": [],
   "source": [
    "def get_coordinates(api_key, address, verbose=False):\n",
    "    try:\n",
    "        url = 'https://maps.googleapis.com/maps/api/geocode/json?key={}&address={}'.format(api_key, address)\n",
    "        response = requests.get(url).json()\n",
    "        if verbose:\n",
    "            print('Google Maps API JSON result =>', response)\n",
    "        results = response['results']\n",
    "        geographical_data = results[0]['geometry']['location'] # get geographical coordinates\n",
    "        lat = geographical_data['lat']\n",
    "        lon = geographical_data['lng']\n",
    "        return [lat, lon]\n",
    "    except:\n",
    "        return [None, None]"
   ]
  },
  {
   "cell_type": "code",
   "execution_count": 10,
   "metadata": {},
   "outputs": [],
   "source": [
    "for i in range(0, MTR_hk.shape[0]):\n",
    "    address = MTR_hk.iloc[i,0]\n",
    "    coordinates = get_coordinates(google_api_key, address)\n",
    "    MTR_hk.iloc[i,1] = coordinates[1]\n",
    "    MTR_hk.iloc[i,2] = coordinates[0]"
   ]
  },
  {
   "cell_type": "code",
   "execution_count": 11,
   "metadata": {},
   "outputs": [
    {
     "data": {
      "text/html": [
       "<div>\n",
       "<style scoped>\n",
       "    .dataframe tbody tr th:only-of-type {\n",
       "        vertical-align: middle;\n",
       "    }\n",
       "\n",
       "    .dataframe tbody tr th {\n",
       "        vertical-align: top;\n",
       "    }\n",
       "\n",
       "    .dataframe thead th {\n",
       "        text-align: right;\n",
       "    }\n",
       "</style>\n",
       "<table border=\"1\" class=\"dataframe\">\n",
       "  <thead>\n",
       "    <tr style=\"text-align: right;\">\n",
       "      <th></th>\n",
       "      <th>MTRStation</th>\n",
       "      <th>longitude</th>\n",
       "      <th>latitude</th>\n",
       "    </tr>\n",
       "  </thead>\n",
       "  <tbody>\n",
       "    <tr>\n",
       "      <td>0</td>\n",
       "      <td>MTR Admiralty station</td>\n",
       "      <td>114.164536</td>\n",
       "      <td>22.278285</td>\n",
       "    </tr>\n",
       "    <tr>\n",
       "      <td>1</td>\n",
       "      <td>MTR Causeway Bay station</td>\n",
       "      <td>114.185042</td>\n",
       "      <td>22.280375</td>\n",
       "    </tr>\n",
       "    <tr>\n",
       "      <td>2</td>\n",
       "      <td>MTR Central station</td>\n",
       "      <td>114.157460</td>\n",
       "      <td>22.281895</td>\n",
       "    </tr>\n",
       "    <tr>\n",
       "      <td>3</td>\n",
       "      <td>MTR Chai Wan station</td>\n",
       "      <td>114.236350</td>\n",
       "      <td>22.264498</td>\n",
       "    </tr>\n",
       "    <tr>\n",
       "      <td>4</td>\n",
       "      <td>MTR Che Kung Temple station</td>\n",
       "      <td>114.185953</td>\n",
       "      <td>22.374760</td>\n",
       "    </tr>\n",
       "  </tbody>\n",
       "</table>\n",
       "</div>"
      ],
      "text/plain": [
       "                    MTRStation   longitude   latitude\n",
       "0        MTR Admiralty station  114.164536  22.278285\n",
       "1     MTR Causeway Bay station  114.185042  22.280375\n",
       "2          MTR Central station  114.157460  22.281895\n",
       "3         MTR Chai Wan station  114.236350  22.264498\n",
       "4  MTR Che Kung Temple station  114.185953  22.374760"
      ]
     },
     "execution_count": 11,
     "metadata": {},
     "output_type": "execute_result"
    }
   ],
   "source": [
    "MTR_hk.head()"
   ]
  },
  {
   "cell_type": "markdown",
   "metadata": {},
   "source": [
    "**Let's take a look at the locations of MTR stations in Hong Kong**"
   ]
  },
  {
   "cell_type": "code",
   "execution_count": 12,
   "metadata": {},
   "outputs": [
    {
     "data": {
      "text/html": [
       "<div style=\"width:100%;\"><div style=\"position:relative;width:100%;height:0;padding-bottom:60%;\"><iframe src=\"data:text/html;charset=utf-8;base64,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\" style=\"position:absolute;width:100%;height:100%;left:0;top:0;border:none !important;\" allowfullscreen webkitallowfullscreen mozallowfullscreen></iframe></div></div>"
      ],
      "text/plain": [
       "<folium.folium.Map at 0x21e774434a8>"
      ]
     },
     "execution_count": 12,
     "metadata": {},
     "output_type": "execute_result"
    }
   ],
   "source": [
    "import folium\n",
    "hk_center = [22.3193039, 114.1693611]\n",
    "\n",
    "\n",
    "# create map of Hong Kong using latitude and longitude values\n",
    "map_hongkong = folium.Map(location=hk_center, zoom_start=11)\n",
    "\n",
    "# add markers to map\n",
    "for lat, lng, label in zip(MTR_hk['latitude'], MTR_hk['longitude'], MTR_hk['MTRStation']):\n",
    "    label = folium.Popup(label, parse_html=True)\n",
    "    folium.CircleMarker(\n",
    "        [lat, lng],\n",
    "        radius=5,\n",
    "        popup=label,\n",
    "        color='blue',\n",
    "        fill=True,\n",
    "        fill_color='#3186cc',\n",
    "        fill_opacity=0.7,\n",
    "        parse_html=False).add_to(map_hongkong)    \n",
    "    \n",
    "map_hongkong"
   ]
  },
  {
   "cell_type": "markdown",
   "metadata": {},
   "source": [
    "#### Obtain population density (# of people/ sq. Km) of districts where each MTR station is located"
   ]
  },
  {
   "cell_type": "markdown",
   "metadata": {},
   "source": [
    "The infomation is obtained from wikipedia (https://en.wikipedia.org/wiki/Districts_of_Hong_Kong) and saved in a cvs file (MTR_Pdensity.csv)"
   ]
  },
  {
   "cell_type": "code",
   "execution_count": 13,
   "metadata": {},
   "outputs": [
    {
     "data": {
      "text/html": [
       "<div>\n",
       "<style scoped>\n",
       "    .dataframe tbody tr th:only-of-type {\n",
       "        vertical-align: middle;\n",
       "    }\n",
       "\n",
       "    .dataframe tbody tr th {\n",
       "        vertical-align: top;\n",
       "    }\n",
       "\n",
       "    .dataframe thead th {\n",
       "        text-align: right;\n",
       "    }\n",
       "</style>\n",
       "<table border=\"1\" class=\"dataframe\">\n",
       "  <thead>\n",
       "    <tr style=\"text-align: right;\">\n",
       "      <th></th>\n",
       "      <th>MTRStation</th>\n",
       "      <th>District</th>\n",
       "      <th>Pop_density</th>\n",
       "    </tr>\n",
       "  </thead>\n",
       "  <tbody>\n",
       "    <tr>\n",
       "      <td>0</td>\n",
       "      <td>MTR Admiralty station</td>\n",
       "      <td>Central Western</td>\n",
       "      <td>19983.92</td>\n",
       "    </tr>\n",
       "    <tr>\n",
       "      <td>1</td>\n",
       "      <td>MTR Central station</td>\n",
       "      <td>Central Western</td>\n",
       "      <td>19983.92</td>\n",
       "    </tr>\n",
       "    <tr>\n",
       "      <td>2</td>\n",
       "      <td>MTR HKU station</td>\n",
       "      <td>Central Western</td>\n",
       "      <td>19983.92</td>\n",
       "    </tr>\n",
       "    <tr>\n",
       "      <td>3</td>\n",
       "      <td>MTR Kennedy Town station</td>\n",
       "      <td>Central Western</td>\n",
       "      <td>19983.92</td>\n",
       "    </tr>\n",
       "    <tr>\n",
       "      <td>4</td>\n",
       "      <td>MTR Sai Ying Pun station</td>\n",
       "      <td>Central Western</td>\n",
       "      <td>19983.92</td>\n",
       "    </tr>\n",
       "  </tbody>\n",
       "</table>\n",
       "</div>"
      ],
      "text/plain": [
       "                 MTRStation         District  Pop_density\n",
       "0     MTR Admiralty station  Central Western     19983.92\n",
       "1       MTR Central station  Central Western     19983.92\n",
       "2           MTR HKU station  Central Western     19983.92\n",
       "3  MTR Kennedy Town station  Central Western     19983.92\n",
       "4  MTR Sai Ying Pun station  Central Western     19983.92"
      ]
     },
     "execution_count": 13,
     "metadata": {},
     "output_type": "execute_result"
    }
   ],
   "source": [
    "MTR_Pdensity = pd.read_csv('MTR_Pdensity.csv')\n",
    "MTR_Pdensity.head()"
   ]
  },
  {
   "cell_type": "markdown",
   "metadata": {},
   "source": [
    "#### Using Foursquare API queries to obtain numbers of fitness center/GYM within 1.5Km radius of each MTR Stations"
   ]
  },
  {
   "cell_type": "code",
   "execution_count": 14,
   "metadata": {},
   "outputs": [],
   "source": [
    "# This is the Foursquare's venue category id for Gym / Fitness Center\n",
    "cat='4bf58dd8d48988d175941735' "
   ]
  },
  {
   "cell_type": "code",
   "execution_count": 17,
   "metadata": {},
   "outputs": [],
   "source": [
    "# function to get near by gym/fitness centers venues based on location's longtitude and latitude\n",
    "LIMIT = 100 # limit of number of venues returned by Foursquare API\n",
    "def getNearbyVenues(names, latitudes, longitudes, radius=1500):\n",
    "    \n",
    "    venues_list=[]\n",
    "    for name, lat, lng in zip(names, latitudes, longitudes):\n",
    "        print(name)\n",
    "            \n",
    "        # create the API request URL\n",
    "        url = 'https://api.foursquare.com/v2/venues/explore?&client_id={}&client_secret={}&v={}&ll={},{}&categoryId={}&radius={}&limit={}'.format(\n",
    "            foursquare_client_id, \n",
    "            foursquare_client_secret, \n",
    "            VERSION, \n",
    "            lat, \n",
    "            lng,\n",
    "            cat,\n",
    "            radius, \n",
    "            LIMIT)\n",
    "            \n",
    "        # make the GET request\n",
    "        results = requests.get(url).json()[\"response\"]['groups'][0]['items']\n",
    "        \n",
    "        # return only relevant information for each nearby venue\n",
    "        venues_list.append([(\n",
    "            name, \n",
    "            lat, \n",
    "            lng, \n",
    "            v['venue']['name'], \n",
    "            v['venue']['location']['lat'], \n",
    "            v['venue']['location']['lng'],  \n",
    "            v['venue']['categories'][0]['name']) for v in results])\n",
    "\n",
    "    nearby_venues = pd.DataFrame([item for venue_list in venues_list for item in venue_list])\n",
    "    nearby_venues.columns = ['MTRStation', \n",
    "                  'latitude', \n",
    "                  'longitude', \n",
    "                  'Venue', \n",
    "                  'Venue Latitude', \n",
    "                  'Venue Longitude', \n",
    "                  'Venue Category']\n",
    "    \n",
    "    return(nearby_venues)"
   ]
  },
  {
   "cell_type": "code",
   "execution_count": 18,
   "metadata": {},
   "outputs": [
    {
     "name": "stdout",
     "output_type": "stream",
     "text": [
      "MTR Admiralty station\n",
      "MTR Causeway Bay station\n",
      "MTR Central station\n",
      "MTR Chai Wan station\n",
      "MTR Che Kung Temple station\n",
      "MTR Cheung Sha Wan station\n",
      "MTR Choi Hung station\n",
      "MTR City One station\n",
      "MTR Diamond Hill station\n",
      "MTR Fanling station\n",
      "MTR Fo Tan station\n",
      "MTR Fortress Hill station\n",
      "MTR Hang Hau station\n",
      "MTR Heng Fa Chuen station\n",
      "MTR Heng On station\n",
      "MTR HKU station\n",
      "MTR Ho Man Tin station\n",
      "MTR Hung Hom station\n",
      "MTR Jordan station\n",
      "MTR Kam Sheung Road station\n",
      "MTR Kennedy Town station\n",
      "MTR Kowloon Bay station\n",
      "MTR Kowloon station\n",
      "MTR Kowloon Tong station\n",
      "MTR Kwai Fong station\n",
      "MTR Kwai Hing station\n",
      "MTR Kwun Tong station\n",
      "MTR Lai Chi Kok station\n",
      "MTR Lai King station\n",
      "MTR Lam Tin station\n",
      "MTR Lei Tung station\n",
      "MTR LOHAS Park station\n",
      "MTR Lok Fu station\n",
      "MTR Long Ping station\n",
      "MTR Ma On Shan station\n",
      "MTR Mei Foo station\n",
      "MTR Mong Kok station\n",
      "MTR Nam Cheong station\n",
      "MTR Ngau Tau Kok station\n",
      "MTR North Point station\n",
      "MTR Olympic station\n",
      "MTR Po Lam station\n",
      "MTR Prince Edward station\n",
      "MTR Quarry Bay station\n",
      "MTR Sai Wan Ho station\n",
      "MTR Sai Ying Pun station\n",
      "MTR Sha Tin station\n",
      "MTR Sha Tin Wai station\n",
      "MTR Sham Shui Po station\n",
      "MTR Shau Kei Wan station\n",
      "MTR Shek Kip Mei station\n",
      "MTR Shek Mun station\n",
      "MTR Sheung Shui station\n",
      "MTR Siu Hong station\n",
      "MTR Sunny Bay station\n",
      "MTR Tai Koo station\n",
      "MTR Tai Po Market station\n",
      "MTR Tai Shui Hang station\n",
      "MTR Tai Wai station\n",
      "MTR Tai Wo Hau station\n",
      "MTR Tai Wo station\n",
      "MTR Tin Hau station\n",
      "MTR Tin Shui Wai station\n",
      "MTR Tiu Keng Leng station\n",
      "MTR Tseung Kwan O station\n",
      "MTR Tsim Sha Tsui station\n",
      "MTR Tsing Yi station\n",
      "MTR Tsuen Wan station\n",
      "MTR Tuen Mun station\n",
      "MTR Tung Chung station\n",
      "MTR Whampoa station\n",
      "MTR Wong Chuk Hang station\n",
      "MTR Wong Tai Sin station\n",
      "MTR Wu Kai Sha station\n",
      "MTR Yau Ma Tei station\n",
      "MTR Yau Tong station\n",
      "MTR Yuen Long station\n"
     ]
    }
   ],
   "source": [
    "# get all the near by gym/fitness centers venues for all MTR Stations\n",
    "gym_hk = MTR_hk\n",
    "gym_venues = getNearbyVenues(names=gym_hk['MTRStation'],\n",
    "                                   latitudes=gym_hk['latitude'],\n",
    "                                   longitudes=gym_hk['longitude']\n",
    "                                  )"
   ]
  },
  {
   "cell_type": "code",
   "execution_count": 19,
   "metadata": {},
   "outputs": [
    {
     "name": "stdout",
     "output_type": "stream",
     "text": [
      "(969, 7)\n"
     ]
    },
    {
     "data": {
      "text/html": [
       "<div>\n",
       "<style scoped>\n",
       "    .dataframe tbody tr th:only-of-type {\n",
       "        vertical-align: middle;\n",
       "    }\n",
       "\n",
       "    .dataframe tbody tr th {\n",
       "        vertical-align: top;\n",
       "    }\n",
       "\n",
       "    .dataframe thead th {\n",
       "        text-align: right;\n",
       "    }\n",
       "</style>\n",
       "<table border=\"1\" class=\"dataframe\">\n",
       "  <thead>\n",
       "    <tr style=\"text-align: right;\">\n",
       "      <th></th>\n",
       "      <th>MTRStation</th>\n",
       "      <th>latitude</th>\n",
       "      <th>longitude</th>\n",
       "      <th>Venue</th>\n",
       "      <th>Venue Latitude</th>\n",
       "      <th>Venue Longitude</th>\n",
       "      <th>Venue Category</th>\n",
       "    </tr>\n",
       "  </thead>\n",
       "  <tbody>\n",
       "    <tr>\n",
       "      <td>0</td>\n",
       "      <td>MTR Admiralty station</td>\n",
       "      <td>22.278285</td>\n",
       "      <td>114.164536</td>\n",
       "      <td>Pure Fitness</td>\n",
       "      <td>22.278475</td>\n",
       "      <td>114.161363</td>\n",
       "      <td>Gym / Fitness Center</td>\n",
       "    </tr>\n",
       "    <tr>\n",
       "      <td>1</td>\n",
       "      <td>MTR Admiralty station</td>\n",
       "      <td>22.278285</td>\n",
       "      <td>114.164536</td>\n",
       "      <td>Pure Yoga</td>\n",
       "      <td>22.278106</td>\n",
       "      <td>114.164754</td>\n",
       "      <td>Yoga Studio</td>\n",
       "    </tr>\n",
       "    <tr>\n",
       "      <td>2</td>\n",
       "      <td>MTR Admiralty station</td>\n",
       "      <td>22.278285</td>\n",
       "      <td>114.164536</td>\n",
       "      <td>Pure Fitness</td>\n",
       "      <td>22.279925</td>\n",
       "      <td>114.163022</td>\n",
       "      <td>Gym / Fitness Center</td>\n",
       "    </tr>\n",
       "    <tr>\n",
       "      <td>3</td>\n",
       "      <td>MTR Admiralty station</td>\n",
       "      <td>22.278285</td>\n",
       "      <td>114.164536</td>\n",
       "      <td>Pure Yoga</td>\n",
       "      <td>22.276904</td>\n",
       "      <td>114.168365</td>\n",
       "      <td>Yoga Studio</td>\n",
       "    </tr>\n",
       "    <tr>\n",
       "      <td>4</td>\n",
       "      <td>MTR Admiralty station</td>\n",
       "      <td>22.278285</td>\n",
       "      <td>114.164536</td>\n",
       "      <td>Pure Fitness</td>\n",
       "      <td>22.285137</td>\n",
       "      <td>114.159455</td>\n",
       "      <td>Gym / Fitness Center</td>\n",
       "    </tr>\n",
       "  </tbody>\n",
       "</table>\n",
       "</div>"
      ],
      "text/plain": [
       "              MTRStation   latitude   longitude         Venue  Venue Latitude  \\\n",
       "0  MTR Admiralty station  22.278285  114.164536  Pure Fitness       22.278475   \n",
       "1  MTR Admiralty station  22.278285  114.164536     Pure Yoga       22.278106   \n",
       "2  MTR Admiralty station  22.278285  114.164536  Pure Fitness       22.279925   \n",
       "3  MTR Admiralty station  22.278285  114.164536     Pure Yoga       22.276904   \n",
       "4  MTR Admiralty station  22.278285  114.164536  Pure Fitness       22.285137   \n",
       "\n",
       "   Venue Longitude        Venue Category  \n",
       "0       114.161363  Gym / Fitness Center  \n",
       "1       114.164754           Yoga Studio  \n",
       "2       114.163022  Gym / Fitness Center  \n",
       "3       114.168365           Yoga Studio  \n",
       "4       114.159455  Gym / Fitness Center  "
      ]
     },
     "execution_count": 19,
     "metadata": {},
     "output_type": "execute_result"
    }
   ],
   "source": [
    "print(gym_venues.shape)\n",
    "gym_venues.head()"
   ]
  },
  {
   "cell_type": "code",
   "execution_count": 20,
   "metadata": {},
   "outputs": [
    {
     "data": {
      "text/html": [
       "<div>\n",
       "<style scoped>\n",
       "    .dataframe tbody tr th:only-of-type {\n",
       "        vertical-align: middle;\n",
       "    }\n",
       "\n",
       "    .dataframe tbody tr th {\n",
       "        vertical-align: top;\n",
       "    }\n",
       "\n",
       "    .dataframe thead th {\n",
       "        text-align: right;\n",
       "    }\n",
       "</style>\n",
       "<table border=\"1\" class=\"dataframe\">\n",
       "  <thead>\n",
       "    <tr style=\"text-align: right;\">\n",
       "      <th></th>\n",
       "      <th>MTRStation</th>\n",
       "      <th>count</th>\n",
       "    </tr>\n",
       "  </thead>\n",
       "  <tbody>\n",
       "    <tr>\n",
       "      <td>0</td>\n",
       "      <td>MTR Admiralty station</td>\n",
       "      <td>84</td>\n",
       "    </tr>\n",
       "    <tr>\n",
       "      <td>1</td>\n",
       "      <td>MTR Central station</td>\n",
       "      <td>82</td>\n",
       "    </tr>\n",
       "    <tr>\n",
       "      <td>2</td>\n",
       "      <td>MTR Sai Ying Pun station</td>\n",
       "      <td>77</td>\n",
       "    </tr>\n",
       "    <tr>\n",
       "      <td>3</td>\n",
       "      <td>MTR Causeway Bay station</td>\n",
       "      <td>58</td>\n",
       "    </tr>\n",
       "    <tr>\n",
       "      <td>4</td>\n",
       "      <td>MTR Jordan station</td>\n",
       "      <td>46</td>\n",
       "    </tr>\n",
       "  </tbody>\n",
       "</table>\n",
       "</div>"
      ],
      "text/plain": [
       "                 MTRStation  count\n",
       "0     MTR Admiralty station     84\n",
       "1       MTR Central station     82\n",
       "2  MTR Sai Ying Pun station     77\n",
       "3  MTR Causeway Bay station     58\n",
       "4        MTR Jordan station     46"
      ]
     },
     "execution_count": 20,
     "metadata": {},
     "output_type": "execute_result"
    }
   ],
   "source": [
    "# get a table of MTR stations and the number of gym/fitness centers within 1.5Km\n",
    "df1 = gym_venues['MTRStation'].value_counts()\n",
    "df1 = df1.to_frame().reset_index()\n",
    "df1.columns = [\"MTRStation\", \"count\"]\n",
    "gym_count = df1\n",
    "gym_count.head()"
   ]
  },
  {
   "cell_type": "markdown",
   "metadata": {},
   "source": [
    "#### Let's draw a heatmap to depict the density of gym/fitness center in each MTR stations"
   ]
  },
  {
   "cell_type": "code",
   "execution_count": 21,
   "metadata": {},
   "outputs": [],
   "source": [
    "df2 = df1.merge(MTR_hk, on='MTRStation', how='outer').fillna('')\n",
    "df2 = df2[['latitude', 'longitude','count']]\n",
    "for i in range(0,df2.shape[0]):\n",
    "    if df2.loc[i,'count']=='':df2.loc[i,'count']=0"
   ]
  },
  {
   "cell_type": "code",
   "execution_count": 26,
   "metadata": {},
   "outputs": [
    {
     "data": {
      "text/html": [
       "<div style=\"width:100%;\"><div style=\"position:relative;width:100%;height:0;padding-bottom:60%;\"><iframe src=\"data:text/html;charset=utf-8;base64,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\" style=\"position:absolute;width:100%;height:100%;left:0;top:0;border:none !important;\" allowfullscreen webkitallowfullscreen mozallowfullscreen></iframe></div></div>"
      ],
      "text/plain": [
       "<folium.folium.Map at 0x21e77d7b438>"
      ]
     },
     "execution_count": 26,
     "metadata": {},
     "output_type": "execute_result"
    }
   ],
   "source": [
    "df3 = df2.values.tolist()\n",
    "address = 'Hong Kong'\n",
    "\n",
    "geolocator = Nominatim(user_agent=\"ny_explorer\")\n",
    "location = geolocator.geocode(address)\n",
    "latitude = location.latitude\n",
    "longitude = location.longitude\n",
    "\n",
    "# create map of Toronto using latitude and longitude values\n",
    "map_hk = folium.Map(location=[latitude, longitude], zoom_start=10)\n",
    "\n",
    "HeatMap(df3).add_to(map_hk)\n",
    "\n",
    "map_hk"
   ]
  },
  {
   "cell_type": "markdown",
   "metadata": {},
   "source": [
    "#### Now we have all the required data"
   ]
  },
  {
   "cell_type": "markdown",
   "metadata": {},
   "source": [
    "## Methodology <a name=\"methodology\"></a>"
   ]
  },
  {
   "cell_type": "markdown",
   "metadata": {},
   "source": [
    "In order to recommend locations for new AT20 studio, we need to :\n",
    "1. determine whether there are already \"too many\" gym/fitness centers within 1.5Km radius of each MTR stations.\n",
    "2. determine whether we should treat all MTR stations as one group or we should differentiate them into different groups\n",
    "\n",
    "Here is our methodology:\n",
    "\n",
    "A. Grouping of MTR stations:\n",
    "\n",
    "step 1: Find out different type of venues in the vicinity of each MTR stations via foursquare API queries\n",
    "\n",
    "step 2: using  the finding in step 1 to categorise (using \"k-means clustering\") all the MTR stations into 5 groups.\n",
    "\n",
    "step 3: examine each of the 5 MTR station groups from step 2 and assign to each of them a meaning label \n",
    "\n",
    "B. Determine how \"crowded\" is the gym/fitness center market in the neighbor of all the MTR stations\n",
    "- the area of a circle of 1.5 Km radius = 3.1415 x 1.5 x 1.5 = 7.068 sq,Km. The number of population in a 7.068 sq. Km circle with MTR station as its center is estimated by 7.068 x population density (number of people/sq. Km)\n",
    "- number of people per gym/fitness center is calculated by (7.068 x population density)/ number of gym/fitness centers\n",
    "\n",
    "step 1: calculate number of people per gym/fitness center by using above formular\n",
    "\n",
    "step 2: list the top 3 MTR station with the highest number of people per gym/fitness center in each group\n",
    "\n",
    "This would be our recommendation of new AT20 studio"
   ]
  },
  {
   "cell_type": "markdown",
   "metadata": {},
   "source": [
    "## Analysis <a name=\"analysis\"></a>"
   ]
  },
  {
   "cell_type": "markdown",
   "metadata": {},
   "source": [
    "### A. Grouping of MTR stations"
   ]
  },
  {
   "cell_type": "code",
   "execution_count": 46,
   "metadata": {},
   "outputs": [],
   "source": [
    "LIMIT = 100 # limit of number of venues returned by Foursquare API\n",
    "\n",
    "def getNearbyVenues(names, latitudes, longitudes, radius=1500):\n",
    "    \n",
    "    venues_list=[]\n",
    "    for name, lat, lng in zip(names, latitudes, longitudes):\n",
    "        print(name)\n",
    "            \n",
    "        # create the API request URL\n",
    "        url = 'https://api.foursquare.com/v2/venues/explore?&client_id={}&client_secret={}&v={}&ll={},{}&radius={}&limit={}'.format(\n",
    "            foursquare_client_id, \n",
    "            foursquare_client_secret, \n",
    "            VERSION, \n",
    "            lat, \n",
    "            lng, \n",
    "            radius, \n",
    "            LIMIT)\n",
    "            \n",
    "        # make the GET request\n",
    "        results = requests.get(url).json()[\"response\"]['groups'][0]['items']\n",
    "        \n",
    "        # return only relevant information for each nearby venue\n",
    "        venues_list.append([(\n",
    "            name, \n",
    "            lat, \n",
    "            lng, \n",
    "            v['venue']['name'], \n",
    "            v['venue']['location']['lat'], \n",
    "            v['venue']['location']['lng'],  \n",
    "            v['venue']['categories'][0]['name']) for v in results])\n",
    "\n",
    "    nearby_venues = pd.DataFrame([item for venue_list in venues_list for item in venue_list])\n",
    "    nearby_venues.columns = ['MTRStation', \n",
    "                  'MTRStation Latitude', \n",
    "                  'MTRStation Longitude', \n",
    "                  'Venue', \n",
    "                  'Venue Latitude', \n",
    "                  'Venue Longitude', \n",
    "                  'Venue Category']\n",
    "    \n",
    "    return(nearby_venues)"
   ]
  },
  {
   "cell_type": "code",
   "execution_count": 47,
   "metadata": {},
   "outputs": [
    {
     "name": "stdout",
     "output_type": "stream",
     "text": [
      "MTR Admiralty station\n",
      "MTR Causeway Bay station\n",
      "MTR Central station\n",
      "MTR Chai Wan station\n",
      "MTR Che Kung Temple station\n",
      "MTR Cheung Sha Wan station\n",
      "MTR Choi Hung station\n",
      "MTR City One station\n",
      "MTR Diamond Hill station\n",
      "MTR Fanling station\n",
      "MTR Fo Tan station\n",
      "MTR Fortress Hill station\n",
      "MTR Hang Hau station\n",
      "MTR Heng Fa Chuen station\n",
      "MTR Heng On station\n",
      "MTR HKU station\n",
      "MTR Ho Man Tin station\n",
      "MTR Hung Hom station\n",
      "MTR Jordan station\n",
      "MTR Kam Sheung Road station\n",
      "MTR Kennedy Town station\n",
      "MTR Kowloon Bay station\n",
      "MTR Kowloon station\n",
      "MTR Kowloon Tong station\n",
      "MTR Kwai Fong station\n",
      "MTR Kwai Hing station\n",
      "MTR Kwun Tong station\n",
      "MTR Lai Chi Kok station\n",
      "MTR Lai King station\n",
      "MTR Lam Tin station\n",
      "MTR Lei Tung station\n",
      "MTR LOHAS Park station\n",
      "MTR Lok Fu station\n",
      "MTR Long Ping station\n",
      "MTR Ma On Shan station\n",
      "MTR Mei Foo station\n",
      "MTR Mong Kok station\n",
      "MTR Nam Cheong station\n",
      "MTR Ngau Tau Kok station\n",
      "MTR North Point station\n",
      "MTR Olympic station\n",
      "MTR Po Lam station\n",
      "MTR Prince Edward station\n",
      "MTR Quarry Bay station\n",
      "MTR Sai Wan Ho station\n",
      "MTR Sai Ying Pun station\n",
      "MTR Sha Tin station\n",
      "MTR Sha Tin Wai station\n",
      "MTR Sham Shui Po station\n",
      "MTR Shau Kei Wan station\n",
      "MTR Shek Kip Mei station\n",
      "MTR Shek Mun station\n",
      "MTR Sheung Shui station\n",
      "MTR Siu Hong station\n",
      "MTR Sunny Bay station\n",
      "MTR Tai Koo station\n",
      "MTR Tai Po Market station\n",
      "MTR Tai Shui Hang station\n",
      "MTR Tai Wai station\n",
      "MTR Tai Wo Hau station\n",
      "MTR Tai Wo station\n",
      "MTR Tin Hau station\n",
      "MTR Tin Shui Wai station\n",
      "MTR Tiu Keng Leng station\n",
      "MTR Tseung Kwan O station\n",
      "MTR Tsim Sha Tsui station\n",
      "MTR Tsing Yi station\n",
      "MTR Tsuen Wan station\n",
      "MTR Tuen Mun station\n",
      "MTR Tung Chung station\n",
      "MTR Whampoa station\n",
      "MTR Wong Chuk Hang station\n",
      "MTR Wong Tai Sin station\n",
      "MTR Wu Kai Sha station\n",
      "MTR Yau Ma Tei station\n",
      "MTR Yau Tong station\n",
      "MTR Yuen Long station\n"
     ]
    }
   ],
   "source": [
    "HK_venues = getNearbyVenues(names=MTR_hk['MTRStation'],\n",
    "                                   latitudes=MTR_hk['latitude'],\n",
    "                                   longitudes=MTR_hk['longitude']\n",
    "                                  )"
   ]
  },
  {
   "cell_type": "code",
   "execution_count": 48,
   "metadata": {},
   "outputs": [],
   "source": [
    "# one hot encoding\n",
    "HK_onehot = pd.get_dummies(HK_venues[['Venue Category']], prefix=\"\", prefix_sep=\"\")\n",
    "\n",
    "# add neighborhood column back to dataframe\n",
    "HK_onehot['MTRStation'] = HK_venues['MTRStation'] \n",
    "\n",
    "# move neighborhood column to the first column\n",
    "fixed_columns = [HK_onehot.columns[-1]] + list(HK_onehot.columns[:-1])\n",
    "HK_onehot = HK_onehot[fixed_columns]\n",
    "\n",
    "HK_grouped = HK_onehot.groupby('MTRStation').mean().reset_index()"
   ]
  },
  {
   "cell_type": "code",
   "execution_count": 49,
   "metadata": {},
   "outputs": [],
   "source": [
    "def return_most_common_venues(row, num_top_venues):\n",
    "    row_categories = row.iloc[1:]\n",
    "    row_categories_sorted = row_categories.sort_values(ascending=False)\n",
    "    \n",
    "    return row_categories_sorted.index.values[0:num_top_venues]"
   ]
  },
  {
   "cell_type": "code",
   "execution_count": 50,
   "metadata": {},
   "outputs": [
    {
     "data": {
      "text/html": [
       "<div>\n",
       "<style scoped>\n",
       "    .dataframe tbody tr th:only-of-type {\n",
       "        vertical-align: middle;\n",
       "    }\n",
       "\n",
       "    .dataframe tbody tr th {\n",
       "        vertical-align: top;\n",
       "    }\n",
       "\n",
       "    .dataframe thead th {\n",
       "        text-align: right;\n",
       "    }\n",
       "</style>\n",
       "<table border=\"1\" class=\"dataframe\">\n",
       "  <thead>\n",
       "    <tr style=\"text-align: right;\">\n",
       "      <th></th>\n",
       "      <th>MTRStation</th>\n",
       "      <th>1st Most Common Venue</th>\n",
       "      <th>2nd Most Common Venue</th>\n",
       "      <th>3rd Most Common Venue</th>\n",
       "      <th>4th Most Common Venue</th>\n",
       "      <th>5th Most Common Venue</th>\n",
       "      <th>6th Most Common Venue</th>\n",
       "      <th>7th Most Common Venue</th>\n",
       "      <th>8th Most Common Venue</th>\n",
       "      <th>9th Most Common Venue</th>\n",
       "      <th>...</th>\n",
       "      <th>21th Most Common Venue</th>\n",
       "      <th>22th Most Common Venue</th>\n",
       "      <th>23th Most Common Venue</th>\n",
       "      <th>24th Most Common Venue</th>\n",
       "      <th>25th Most Common Venue</th>\n",
       "      <th>26th Most Common Venue</th>\n",
       "      <th>27th Most Common Venue</th>\n",
       "      <th>28th Most Common Venue</th>\n",
       "      <th>29th Most Common Venue</th>\n",
       "      <th>30th Most Common Venue</th>\n",
       "    </tr>\n",
       "  </thead>\n",
       "  <tbody>\n",
       "    <tr>\n",
       "      <td>0</td>\n",
       "      <td>MTR Admiralty station</td>\n",
       "      <td>Hotel</td>\n",
       "      <td>Italian Restaurant</td>\n",
       "      <td>Café</td>\n",
       "      <td>Yoga Studio</td>\n",
       "      <td>Hotel Bar</td>\n",
       "      <td>Lounge</td>\n",
       "      <td>Bar</td>\n",
       "      <td>Japanese Restaurant</td>\n",
       "      <td>Steakhouse</td>\n",
       "      <td>...</td>\n",
       "      <td>Hong Kong Restaurant</td>\n",
       "      <td>Park</td>\n",
       "      <td>Chinese Restaurant</td>\n",
       "      <td>Middle Eastern Restaurant</td>\n",
       "      <td>Snack Place</td>\n",
       "      <td>Social Club</td>\n",
       "      <td>Cocktail Bar</td>\n",
       "      <td>Multiplex</td>\n",
       "      <td>Electronics Store</td>\n",
       "      <td>Non-Profit</td>\n",
       "    </tr>\n",
       "    <tr>\n",
       "      <td>1</td>\n",
       "      <td>MTR Causeway Bay station</td>\n",
       "      <td>Japanese Restaurant</td>\n",
       "      <td>Chinese Restaurant</td>\n",
       "      <td>Coffee Shop</td>\n",
       "      <td>Dessert Shop</td>\n",
       "      <td>Sushi Restaurant</td>\n",
       "      <td>Hotel</td>\n",
       "      <td>Café</td>\n",
       "      <td>Szechuan Restaurant</td>\n",
       "      <td>Sporting Goods Shop</td>\n",
       "      <td>...</td>\n",
       "      <td>Park</td>\n",
       "      <td>Pizza Place</td>\n",
       "      <td>Buffet</td>\n",
       "      <td>French Restaurant</td>\n",
       "      <td>Snack Place</td>\n",
       "      <td>Shopping Mall</td>\n",
       "      <td>Shanghai Restaurant</td>\n",
       "      <td>Electronics Store</td>\n",
       "      <td>Dim Sum Restaurant</td>\n",
       "      <td>Chocolate Shop</td>\n",
       "    </tr>\n",
       "    <tr>\n",
       "      <td>2</td>\n",
       "      <td>MTR Central station</td>\n",
       "      <td>Cocktail Bar</td>\n",
       "      <td>Hotel</td>\n",
       "      <td>Gym / Fitness Center</td>\n",
       "      <td>French Restaurant</td>\n",
       "      <td>Japanese Restaurant</td>\n",
       "      <td>Italian Restaurant</td>\n",
       "      <td>Art Gallery</td>\n",
       "      <td>Bar</td>\n",
       "      <td>Coffee Shop</td>\n",
       "      <td>...</td>\n",
       "      <td>Middle Eastern Restaurant</td>\n",
       "      <td>BBQ Joint</td>\n",
       "      <td>Shanghai Restaurant</td>\n",
       "      <td>Sandwich Place</td>\n",
       "      <td>Cantonese Restaurant</td>\n",
       "      <td>Cupcake Shop</td>\n",
       "      <td>Shopping Mall</td>\n",
       "      <td>Café</td>\n",
       "      <td>Cultural Center</td>\n",
       "      <td>Electronics Store</td>\n",
       "    </tr>\n",
       "    <tr>\n",
       "      <td>3</td>\n",
       "      <td>MTR Chai Wan station</td>\n",
       "      <td>Fast Food Restaurant</td>\n",
       "      <td>Bakery</td>\n",
       "      <td>Chinese Restaurant</td>\n",
       "      <td>Coffee Shop</td>\n",
       "      <td>Convenience Store</td>\n",
       "      <td>Café</td>\n",
       "      <td>Cantonese Restaurant</td>\n",
       "      <td>Noodle House</td>\n",
       "      <td>Supermarket</td>\n",
       "      <td>...</td>\n",
       "      <td>Bus Stop</td>\n",
       "      <td>Hostel</td>\n",
       "      <td>Korean Restaurant</td>\n",
       "      <td>Paper / Office Supplies Store</td>\n",
       "      <td>Park</td>\n",
       "      <td>Athletics &amp; Sports</td>\n",
       "      <td>Hong Kong Restaurant</td>\n",
       "      <td>Asian Restaurant</td>\n",
       "      <td>Dumpling Restaurant</td>\n",
       "      <td>Vietnamese Restaurant</td>\n",
       "    </tr>\n",
       "    <tr>\n",
       "      <td>4</td>\n",
       "      <td>MTR Che Kung Temple station</td>\n",
       "      <td>Fast Food Restaurant</td>\n",
       "      <td>Café</td>\n",
       "      <td>Chinese Restaurant</td>\n",
       "      <td>Cantonese Restaurant</td>\n",
       "      <td>Dessert Shop</td>\n",
       "      <td>Hong Kong Restaurant</td>\n",
       "      <td>Shopping Mall</td>\n",
       "      <td>Train Station</td>\n",
       "      <td>Restaurant</td>\n",
       "      <td>...</td>\n",
       "      <td>Sandwich Place</td>\n",
       "      <td>Cha Chaan Teng</td>\n",
       "      <td>Campground</td>\n",
       "      <td>Seafood Restaurant</td>\n",
       "      <td>Shanghai Restaurant</td>\n",
       "      <td>Bus Stop</td>\n",
       "      <td>Italian Restaurant</td>\n",
       "      <td>Park</td>\n",
       "      <td>Spanish Restaurant</td>\n",
       "      <td>Department Store</td>\n",
       "    </tr>\n",
       "  </tbody>\n",
       "</table>\n",
       "<p>5 rows × 31 columns</p>\n",
       "</div>"
      ],
      "text/plain": [
       "                    MTRStation 1st Most Common Venue 2nd Most Common Venue  \\\n",
       "0        MTR Admiralty station                 Hotel    Italian Restaurant   \n",
       "1     MTR Causeway Bay station   Japanese Restaurant    Chinese Restaurant   \n",
       "2          MTR Central station          Cocktail Bar                 Hotel   \n",
       "3         MTR Chai Wan station  Fast Food Restaurant                Bakery   \n",
       "4  MTR Che Kung Temple station  Fast Food Restaurant                  Café   \n",
       "\n",
       "  3rd Most Common Venue 4th Most Common Venue 5th Most Common Venue  \\\n",
       "0                  Café           Yoga Studio             Hotel Bar   \n",
       "1           Coffee Shop          Dessert Shop      Sushi Restaurant   \n",
       "2  Gym / Fitness Center     French Restaurant   Japanese Restaurant   \n",
       "3    Chinese Restaurant           Coffee Shop     Convenience Store   \n",
       "4    Chinese Restaurant  Cantonese Restaurant          Dessert Shop   \n",
       "\n",
       "  6th Most Common Venue 7th Most Common Venue 8th Most Common Venue  \\\n",
       "0                Lounge                   Bar   Japanese Restaurant   \n",
       "1                 Hotel                  Café   Szechuan Restaurant   \n",
       "2    Italian Restaurant           Art Gallery                   Bar   \n",
       "3                  Café  Cantonese Restaurant          Noodle House   \n",
       "4  Hong Kong Restaurant         Shopping Mall         Train Station   \n",
       "\n",
       "  9th Most Common Venue  ...     21th Most Common Venue  \\\n",
       "0            Steakhouse  ...       Hong Kong Restaurant   \n",
       "1   Sporting Goods Shop  ...                       Park   \n",
       "2           Coffee Shop  ...  Middle Eastern Restaurant   \n",
       "3           Supermarket  ...                   Bus Stop   \n",
       "4            Restaurant  ...             Sandwich Place   \n",
       "\n",
       "  22th Most Common Venue 23th Most Common Venue  \\\n",
       "0                   Park     Chinese Restaurant   \n",
       "1            Pizza Place                 Buffet   \n",
       "2              BBQ Joint    Shanghai Restaurant   \n",
       "3                 Hostel      Korean Restaurant   \n",
       "4         Cha Chaan Teng             Campground   \n",
       "\n",
       "          24th Most Common Venue 25th Most Common Venue  \\\n",
       "0      Middle Eastern Restaurant            Snack Place   \n",
       "1              French Restaurant            Snack Place   \n",
       "2                 Sandwich Place   Cantonese Restaurant   \n",
       "3  Paper / Office Supplies Store                   Park   \n",
       "4             Seafood Restaurant    Shanghai Restaurant   \n",
       "\n",
       "  26th Most Common Venue 27th Most Common Venue 28th Most Common Venue  \\\n",
       "0            Social Club           Cocktail Bar              Multiplex   \n",
       "1          Shopping Mall    Shanghai Restaurant      Electronics Store   \n",
       "2           Cupcake Shop          Shopping Mall                   Café   \n",
       "3     Athletics & Sports   Hong Kong Restaurant       Asian Restaurant   \n",
       "4               Bus Stop     Italian Restaurant                   Park   \n",
       "\n",
       "  29th Most Common Venue 30th Most Common Venue  \n",
       "0      Electronics Store             Non-Profit  \n",
       "1     Dim Sum Restaurant         Chocolate Shop  \n",
       "2        Cultural Center      Electronics Store  \n",
       "3    Dumpling Restaurant  Vietnamese Restaurant  \n",
       "4     Spanish Restaurant       Department Store  \n",
       "\n",
       "[5 rows x 31 columns]"
      ]
     },
     "execution_count": 50,
     "metadata": {},
     "output_type": "execute_result"
    }
   ],
   "source": [
    "num_top_venues = 30\n",
    "\n",
    "indicators = ['st', 'nd', 'rd']\n",
    "\n",
    "# create columns according to number of top venues\n",
    "columns = ['MTRStation']\n",
    "for ind in np.arange(num_top_venues):\n",
    "    try:\n",
    "        columns.append('{}{} Most Common Venue'.format(ind+1, indicators[ind]))\n",
    "    except:\n",
    "        columns.append('{}th Most Common Venue'.format(ind+1))\n",
    "\n",
    "# create a new dataframe\n",
    "HK_venues_sorted = pd.DataFrame(columns=columns)\n",
    "HK_venues_sorted['MTRStation'] = HK_grouped['MTRStation']\n",
    "\n",
    "for ind in np.arange(HK_grouped.shape[0]):\n",
    "    HK_venues_sorted.iloc[ind, 1:] = return_most_common_venues(HK_grouped.iloc[ind, :], num_top_venues)\n",
    "\n",
    "HK_venues_sorted.head()"
   ]
  },
  {
   "cell_type": "code",
   "execution_count": 51,
   "metadata": {},
   "outputs": [
    {
     "data": {
      "text/plain": [
       "array([3, 3, 3, 0, 0, 2, 2, 0, 2, 2])"
      ]
     },
     "execution_count": 51,
     "metadata": {},
     "output_type": "execute_result"
    }
   ],
   "source": [
    "# set number of clusters\n",
    "kclusters = 5\n",
    "\n",
    "HK_grouped_clustering = HK_grouped.drop('MTRStation', 1)\n",
    "\n",
    "# run k-means clustering\n",
    "kmeans = KMeans(n_clusters=kclusters, random_state=0).fit(HK_grouped_clustering)\n",
    "\n",
    "# check cluster labels generated for each row in the dataframe\n",
    "kmeans.labels_[0:10] "
   ]
  },
  {
   "cell_type": "code",
   "execution_count": 52,
   "metadata": {},
   "outputs": [],
   "source": [
    "# add clustering labels\n",
    "HK_venues_sorted.insert(0, 'ClusterLabels', kmeans.labels_)\n",
    "\n",
    "HK_merged = MTR_hk\n",
    "\n",
    "# merge toronto_grouped with toronto_data to add latitude/longitude for each neighborhood\n",
    "HK_merged = HK_merged.join(HK_venues_sorted.set_index('MTRStation'), on='MTRStation')"
   ]
  },
  {
   "cell_type": "code",
   "execution_count": 53,
   "metadata": {},
   "outputs": [
    {
     "data": {
      "text/html": [
       "<div style=\"width:100%;\"><div style=\"position:relative;width:100%;height:0;padding-bottom:60%;\"><iframe src=\"data:text/html;charset=utf-8;base64,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\" style=\"position:absolute;width:100%;height:100%;left:0;top:0;border:none !important;\" allowfullscreen webkitallowfullscreen mozallowfullscreen></iframe></div></div>"
      ],
      "text/plain": [
       "<folium.folium.Map at 0x21e77e24668>"
      ]
     },
     "execution_count": 53,
     "metadata": {},
     "output_type": "execute_result"
    }
   ],
   "source": [
    "# create map\n",
    "hk_center = [22.3193039, 114.1693611]\n",
    "map_clusters = folium.Map(location=hk_center, zoom_start=11)\n",
    "\n",
    "# set color scheme for the clusters\n",
    "x = np.arange(kclusters)\n",
    "ys = [i + x + (i*x)**2 for i in range(kclusters)]\n",
    "colors_array = cm.rainbow(np.linspace(0, 1, len(ys)))\n",
    "rainbow = [colors.rgb2hex(i) for i in colors_array]\n",
    "\n",
    "# add markers to the map\n",
    "markers_colors = []\n",
    "for lat, lon, poi, cluster in zip(HK_merged['latitude'], HK_merged['longitude'], HK_merged['MTRStation'], HK_merged['ClusterLabels']):\n",
    "    label = folium.Popup(str(poi) + ' Cluster ' + str(cluster), parse_html=True)\n",
    "    folium.CircleMarker(\n",
    "        [lat, lon],\n",
    "        radius=5,\n",
    "        popup=label,\n",
    "        color=rainbow[cluster-1],\n",
    "        fill=True,\n",
    "        fill_color=rainbow[cluster-1],\n",
    "        fill_opacity=0.7).add_to(map_clusters)\n",
    "       \n",
    "map_clusters"
   ]
  },
  {
   "cell_type": "code",
   "execution_count": 54,
   "metadata": {},
   "outputs": [],
   "source": [
    "HK_Cat = HK_merged[['MTRStation', 'ClusterLabels']]"
   ]
  },
  {
   "cell_type": "code",
   "execution_count": 60,
   "metadata": {},
   "outputs": [],
   "source": [
    "HK_Cat.to_csv(r'HK_Cat1.csv')"
   ]
  },
  {
   "cell_type": "markdown",
   "metadata": {},
   "source": [
    "#### Let's look at elements of group with lable = 0"
   ]
  },
  {
   "cell_type": "code",
   "execution_count": 55,
   "metadata": {},
   "outputs": [
    {
     "data": {
      "text/plain": [
       "3            MTR Chai Wan station\n",
       "4     MTR Che Kung Temple station\n",
       "7            MTR City One station\n",
       "10             MTR Fo Tan station\n",
       "12           MTR Hang Hau station\n",
       "14            MTR Heng On station\n",
       "19    MTR Kam Sheung Road station\n",
       "25          MTR Kwai Hing station\n",
       "28           MTR Lai King station\n",
       "29            MTR Lam Tin station\n",
       "30           MTR Lei Tung station\n",
       "34         MTR Ma On Shan station\n",
       "41             MTR Po Lam station\n",
       "46            MTR Sha Tin station\n",
       "47        MTR Sha Tin Wai station\n",
       "51           MTR Shek Mun station\n",
       "52        MTR Sheung Shui station\n",
       "53           MTR Siu Hong station\n",
       "57      MTR Tai Shui Hang station\n",
       "58            MTR Tai Wai station\n",
       "62       MTR Tin Shui Wai station\n",
       "63      MTR Tiu Keng Leng station\n",
       "64      MTR Tseung Kwan O station\n",
       "68           MTR Tuen Mun station\n",
       "71     MTR Wong Chuk Hang station\n",
       "73         MTR Wu Kai Sha station\n",
       "75           MTR Yau Tong station\n",
       "Name: MTRStation, dtype: object"
      ]
     },
     "execution_count": 55,
     "metadata": {},
     "output_type": "execute_result"
    }
   ],
   "source": [
    "group_0=HK_merged.loc[HK_merged['ClusterLabels'] == 0]\n",
    "group_0['MTRStation']"
   ]
  },
  {
   "cell_type": "markdown",
   "metadata": {},
   "source": [
    "#### Let's look at elements of group with lable = 1"
   ]
  },
  {
   "cell_type": "code",
   "execution_count": 56,
   "metadata": {},
   "outputs": [
    {
     "data": {
      "text/plain": [
       "54    MTR Sunny Bay station\n",
       "Name: MTRStation, dtype: object"
      ]
     },
     "execution_count": 56,
     "metadata": {},
     "output_type": "execute_result"
    }
   ],
   "source": [
    "group_1=HK_merged.loc[HK_merged['ClusterLabels'] == 1]\n",
    "group_1['MTRStation']"
   ]
  },
  {
   "cell_type": "markdown",
   "metadata": {},
   "source": [
    "#### Let's look at elements of group with lable = 2"
   ]
  },
  {
   "cell_type": "code",
   "execution_count": 57,
   "metadata": {},
   "outputs": [
    {
     "data": {
      "text/plain": [
       "5     MTR Cheung Sha Wan station\n",
       "6          MTR Choi Hung station\n",
       "8       MTR Diamond Hill station\n",
       "9            MTR Fanling station\n",
       "13     MTR Heng Fa Chuen station\n",
       "21       MTR Kowloon Bay station\n",
       "23      MTR Kowloon Tong station\n",
       "24         MTR Kwai Fong station\n",
       "26         MTR Kwun Tong station\n",
       "27       MTR Lai Chi Kok station\n",
       "32            MTR Lok Fu station\n",
       "33         MTR Long Ping station\n",
       "35           MTR Mei Foo station\n",
       "37        MTR Nam Cheong station\n",
       "38      MTR Ngau Tau Kok station\n",
       "48      MTR Sham Shui Po station\n",
       "49      MTR Shau Kei Wan station\n",
       "50      MTR Shek Kip Mei station\n",
       "56     MTR Tai Po Market station\n",
       "59        MTR Tai Wo Hau station\n",
       "60            MTR Tai Wo station\n",
       "66          MTR Tsing Yi station\n",
       "67         MTR Tsuen Wan station\n",
       "72      MTR Wong Tai Sin station\n",
       "76         MTR Yuen Long station\n",
       "Name: MTRStation, dtype: object"
      ]
     },
     "execution_count": 57,
     "metadata": {},
     "output_type": "execute_result"
    }
   ],
   "source": [
    "group_2=HK_merged.loc[HK_merged['ClusterLabels'] == 2]\n",
    "group_2['MTRStation']"
   ]
  },
  {
   "cell_type": "markdown",
   "metadata": {},
   "source": [
    "#### Let's look at elements of group with lable = 3"
   ]
  },
  {
   "cell_type": "code",
   "execution_count": 58,
   "metadata": {},
   "outputs": [
    {
     "data": {
      "text/plain": [
       "0         MTR Admiralty station\n",
       "1      MTR Causeway Bay station\n",
       "2           MTR Central station\n",
       "11    MTR Fortress Hill station\n",
       "15              MTR HKU station\n",
       "16       MTR Ho Man Tin station\n",
       "17         MTR Hung Hom station\n",
       "18           MTR Jordan station\n",
       "20     MTR Kennedy Town station\n",
       "22          MTR Kowloon station\n",
       "36         MTR Mong Kok station\n",
       "39      MTR North Point station\n",
       "40          MTR Olympic station\n",
       "42    MTR Prince Edward station\n",
       "43       MTR Quarry Bay station\n",
       "44       MTR Sai Wan Ho station\n",
       "45     MTR Sai Ying Pun station\n",
       "55          MTR Tai Koo station\n",
       "61          MTR Tin Hau station\n",
       "65    MTR Tsim Sha Tsui station\n",
       "69       MTR Tung Chung station\n",
       "70          MTR Whampoa station\n",
       "74       MTR Yau Ma Tei station\n",
       "Name: MTRStation, dtype: object"
      ]
     },
     "execution_count": 58,
     "metadata": {},
     "output_type": "execute_result"
    }
   ],
   "source": [
    "group_3=HK_merged.loc[HK_merged['ClusterLabels'] == 3]\n",
    "group_3['MTRStation']"
   ]
  },
  {
   "cell_type": "markdown",
   "metadata": {},
   "source": [
    "#### Let's look at elements of group with lable = 4"
   ]
  },
  {
   "cell_type": "code",
   "execution_count": 59,
   "metadata": {},
   "outputs": [
    {
     "data": {
      "text/plain": [
       "31    MTR LOHAS Park station\n",
       "Name: MTRStation, dtype: object"
      ]
     },
     "execution_count": 59,
     "metadata": {},
     "output_type": "execute_result"
    }
   ],
   "source": [
    "group_4=HK_merged.loc[HK_merged['ClusterLabels'] == 4]\n",
    "group_4['MTRStation']"
   ]
  },
  {
   "cell_type": "markdown",
   "metadata": {},
   "source": [
    "As Group 1 and Group 4 have only 1 element each, we could ignore these two groups and discard them. \n",
    "After examing elements of group 0, 2 and 3, we could re-classify each group as followings:\n",
    "\n",
    "Group 0: New Development Area \n",
    "\n",
    "Group 2: Traditional Residential Area\n",
    "\n",
    "Group 3: High Value Central Area"
   ]
  },
  {
   "cell_type": "markdown",
   "metadata": {},
   "source": [
    "#### Split the MTR grouping into 3 seperate table"
   ]
  },
  {
   "cell_type": "code",
   "execution_count": 70,
   "metadata": {},
   "outputs": [
    {
     "data": {
      "text/html": [
       "<div>\n",
       "<style scoped>\n",
       "    .dataframe tbody tr th:only-of-type {\n",
       "        vertical-align: middle;\n",
       "    }\n",
       "\n",
       "    .dataframe tbody tr th {\n",
       "        vertical-align: top;\n",
       "    }\n",
       "\n",
       "    .dataframe thead th {\n",
       "        text-align: right;\n",
       "    }\n",
       "</style>\n",
       "<table border=\"1\" class=\"dataframe\">\n",
       "  <thead>\n",
       "    <tr style=\"text-align: right;\">\n",
       "      <th></th>\n",
       "      <th>MTRStation</th>\n",
       "    </tr>\n",
       "  </thead>\n",
       "  <tbody>\n",
       "    <tr>\n",
       "      <td>0</td>\n",
       "      <td>MTR Admiralty station</td>\n",
       "    </tr>\n",
       "    <tr>\n",
       "      <td>1</td>\n",
       "      <td>MTR Causeway Bay station</td>\n",
       "    </tr>\n",
       "    <tr>\n",
       "      <td>2</td>\n",
       "      <td>MTR Central station</td>\n",
       "    </tr>\n",
       "    <tr>\n",
       "      <td>3</td>\n",
       "      <td>MTR Fortress Hill station</td>\n",
       "    </tr>\n",
       "    <tr>\n",
       "      <td>4</td>\n",
       "      <td>MTR HKU station</td>\n",
       "    </tr>\n",
       "  </tbody>\n",
       "</table>\n",
       "</div>"
      ],
      "text/plain": [
       "                  MTRStation\n",
       "0      MTR Admiralty station\n",
       "1   MTR Causeway Bay station\n",
       "2        MTR Central station\n",
       "3  MTR Fortress Hill station\n",
       "4            MTR HKU station"
      ]
     },
     "execution_count": 70,
     "metadata": {},
     "output_type": "execute_result"
    }
   ],
   "source": [
    "# Creating table for High Value Central Area\n",
    "HighValue = group_3[['MTRStation']]\n",
    "HighValue = HighValue.reset_index(drop=True)\n",
    "HighValue.head()"
   ]
  },
  {
   "cell_type": "code",
   "execution_count": 72,
   "metadata": {},
   "outputs": [
    {
     "data": {
      "text/html": [
       "<div>\n",
       "<style scoped>\n",
       "    .dataframe tbody tr th:only-of-type {\n",
       "        vertical-align: middle;\n",
       "    }\n",
       "\n",
       "    .dataframe tbody tr th {\n",
       "        vertical-align: top;\n",
       "    }\n",
       "\n",
       "    .dataframe thead th {\n",
       "        text-align: right;\n",
       "    }\n",
       "</style>\n",
       "<table border=\"1\" class=\"dataframe\">\n",
       "  <thead>\n",
       "    <tr style=\"text-align: right;\">\n",
       "      <th></th>\n",
       "      <th>MTRStation</th>\n",
       "    </tr>\n",
       "  </thead>\n",
       "  <tbody>\n",
       "    <tr>\n",
       "      <td>0</td>\n",
       "      <td>MTR Cheung Sha Wan station</td>\n",
       "    </tr>\n",
       "    <tr>\n",
       "      <td>1</td>\n",
       "      <td>MTR Choi Hung station</td>\n",
       "    </tr>\n",
       "    <tr>\n",
       "      <td>2</td>\n",
       "      <td>MTR Diamond Hill station</td>\n",
       "    </tr>\n",
       "    <tr>\n",
       "      <td>3</td>\n",
       "      <td>MTR Fanling station</td>\n",
       "    </tr>\n",
       "    <tr>\n",
       "      <td>4</td>\n",
       "      <td>MTR Heng Fa Chuen station</td>\n",
       "    </tr>\n",
       "  </tbody>\n",
       "</table>\n",
       "</div>"
      ],
      "text/plain": [
       "                   MTRStation\n",
       "0  MTR Cheung Sha Wan station\n",
       "1       MTR Choi Hung station\n",
       "2    MTR Diamond Hill station\n",
       "3         MTR Fanling station\n",
       "4   MTR Heng Fa Chuen station"
      ]
     },
     "execution_count": 72,
     "metadata": {},
     "output_type": "execute_result"
    }
   ],
   "source": [
    "# Creating table for Traditional Residential Area\n",
    "TradRes = group_2[['MTRStation']]\n",
    "TradRes = TradRes.reset_index(drop=True)\n",
    "TradRes.head()"
   ]
  },
  {
   "cell_type": "code",
   "execution_count": 78,
   "metadata": {},
   "outputs": [
    {
     "data": {
      "text/plain": [
       "(27, 1)"
      ]
     },
     "execution_count": 78,
     "metadata": {},
     "output_type": "execute_result"
    }
   ],
   "source": [
    "# Creating table for New Development Area\n",
    "NewDev = group_0[['MTRStation']]\n",
    "NewDev = NewDev.reset_index(drop=True)\n",
    "NewDev.shape"
   ]
  },
  {
   "cell_type": "code",
   "execution_count": 82,
   "metadata": {},
   "outputs": [],
   "source": [
    "# Import Population density (people/sq.Km)\n",
    "MTR_Pdensity = pd.read_csv('MTR_Pdensity.csv') # data obtained from (https://en.wikipedia.org/wiki/Districts_of_Hong_Kong)"
   ]
  },
  {
   "cell_type": "code",
   "execution_count": null,
   "metadata": {},
   "outputs": [],
   "source": []
  },
  {
   "cell_type": "code",
   "execution_count": 97,
   "metadata": {},
   "outputs": [
    {
     "data": {
      "text/html": [
       "<div>\n",
       "<style scoped>\n",
       "    .dataframe tbody tr th:only-of-type {\n",
       "        vertical-align: middle;\n",
       "    }\n",
       "\n",
       "    .dataframe tbody tr th {\n",
       "        vertical-align: top;\n",
       "    }\n",
       "\n",
       "    .dataframe thead th {\n",
       "        text-align: right;\n",
       "    }\n",
       "</style>\n",
       "<table border=\"1\" class=\"dataframe\">\n",
       "  <thead>\n",
       "    <tr style=\"text-align: right;\">\n",
       "      <th></th>\n",
       "      <th>MTRStation</th>\n",
       "      <th>count</th>\n",
       "      <th>District</th>\n",
       "      <th>Pop_density</th>\n",
       "      <th>PeoplePerGym</th>\n",
       "    </tr>\n",
       "  </thead>\n",
       "  <tbody>\n",
       "    <tr>\n",
       "      <td>26</td>\n",
       "      <td>MTR Yau Tong station</td>\n",
       "      <td>1</td>\n",
       "      <td>Kwun Tong</td>\n",
       "      <td>56779.05</td>\n",
       "      <td>401347.454305</td>\n",
       "    </tr>\n",
       "    <tr>\n",
       "      <td>0</td>\n",
       "      <td>MTR Chai Wan station</td>\n",
       "      <td>3</td>\n",
       "      <td>Eastern</td>\n",
       "      <td>31217.67</td>\n",
       "      <td>73554.902051</td>\n",
       "    </tr>\n",
       "    <tr>\n",
       "      <td>9</td>\n",
       "      <td>MTR Lam Tin station</td>\n",
       "      <td>6</td>\n",
       "      <td>Kwun Tong</td>\n",
       "      <td>56779.05</td>\n",
       "      <td>66891.242384</td>\n",
       "    </tr>\n",
       "  </tbody>\n",
       "</table>\n",
       "</div>"
      ],
      "text/plain": [
       "              MTRStation  count   District  Pop_density   PeoplePerGym\n",
       "26  MTR Yau Tong station      1  Kwun Tong     56779.05  401347.454305\n",
       "0   MTR Chai Wan station      3    Eastern     31217.67   73554.902051\n",
       "9    MTR Lam Tin station      6  Kwun Tong     56779.05   66891.242384"
      ]
     },
     "execution_count": 97,
     "metadata": {},
     "output_type": "execute_result"
    }
   ],
   "source": [
    "HK_cluster2 = NewDev.merge(gym_count, on='MTRStation', how='left')\n",
    "HK_cluster2 = HK_cluster2.merge(MTR_Pdensity, on='MTRStation', how='left')\n",
    "HK_cluster2['PeoplePerGym'] = HK_cluster2['Pop_density']*math.pi*1.5*1.5/HK_cluster2['count']\n",
    "HK_cluster2 = HK_cluster2.sort_values('PeoplePerGym', ascending=False)\n",
    "HK_cluster2.to_csv(r'HK_cluster2.csv')\n",
    "HK_cluster2.head(3)"
   ]
  },
  {
   "cell_type": "markdown",
   "metadata": {},
   "source": [
    "#### HK_cluster1 is the dataframe that contains name of MTR stations and its corresponding labels"
   ]
  },
  {
   "cell_type": "markdown",
   "metadata": {},
   "source": [
    "### B. Determine how \"crowded\" is the gym/fitness center market in the neighbor of all the MTR stations"
   ]
  },
  {
   "cell_type": "markdown",
   "metadata": {},
   "source": [
    "Determine how \"crowded\" is the gym/fitness center market in the neighbor of all the MTR stations:\n",
    "\n",
    "We define the term \"PeoplePerGym\" as the number of people serves by 1 gym in a particular MTR station.\n",
    "It is calculated by \"Pop_density\" (population density) x (1.5km x 1.5km xpi) / \"count\" (number of gym/fitness center)  \n"
   ]
  },
  {
   "cell_type": "code",
   "execution_count": 116,
   "metadata": {},
   "outputs": [],
   "source": [
    "# Import Population density (people/sq.Km)\n",
    "MTR_Pdensity = pd.read_csv('MTR_Pdensity.csv') # data obtained from (https://en.wikipedia.org/wiki/Districts_of_Hong_Kong)"
   ]
  },
  {
   "cell_type": "markdown",
   "metadata": {},
   "source": [
    "#### Add \"PeoplePerGym\"  to group \"New Development Area\" and sort it"
   ]
  },
  {
   "cell_type": "code",
   "execution_count": 117,
   "metadata": {},
   "outputs": [],
   "source": [
    "NewDev1 = NewDev.merge(gym_count, on='MTRStation', how='left')\n",
    "NewDev1 = NewDev1.merge(MTR_Pdensity, on='MTRStation', how='left')\n",
    "NewDev1['PeoplePerGym'] = NewDev1['Pop_density']*math.pi*1.5*1.5/NewDev1['count']\n",
    "NewDev1 = NewDev1.sort_values('PeoplePerGym', ascending=False) # sort the dataframe according to PeoplePerGym value in descending order\n",
    "NewDev1 = NewDev1.reset_index(drop=True)"
   ]
  },
  {
   "cell_type": "markdown",
   "metadata": {},
   "source": [
    "#### Add \"PeoplePerGym\"  to group \"Traditional Residential Area\" and sort it"
   ]
  },
  {
   "cell_type": "code",
   "execution_count": 118,
   "metadata": {},
   "outputs": [],
   "source": [
    "TradRes1 = TradRes.merge(gym_count, on='MTRStation', how='left')\n",
    "TradRes1 = TradRes1.merge(MTR_Pdensity, on='MTRStation', how='left')\n",
    "TradRes1['PeoplePerGym'] = TradRes1['Pop_density']*math.pi*1.5*1.5/TradRes1['count']\n",
    "TradRes1 = TradRes1.sort_values('PeoplePerGym', ascending=False) # sort the dataframe according to PeoplePerGym value in descending order\n",
    "TradRes1 = TradRes1.reset_index(drop=True)"
   ]
  },
  {
   "cell_type": "markdown",
   "metadata": {},
   "source": [
    "#### Add \"PeoplePerGym\"  to group \"High Value Central Area\" and sort it"
   ]
  },
  {
   "cell_type": "code",
   "execution_count": 119,
   "metadata": {},
   "outputs": [],
   "source": [
    "HighValue1 = HighValue.merge(gym_count, on='MTRStation', how='left')\n",
    "HighValue1 = HighValue1.merge(MTR_Pdensity, on='MTRStation', how='left')\n",
    "HighValue1['PeoplePerGym'] = HighValue1['Pop_density']*math.pi*1.5*1.5/HighValue1['count']\n",
    "HighValue1 = HighValue1.sort_values('PeoplePerGym', ascending=False) # sort the dataframe according to PeoplePerGym value in descending order\n",
    "HighValue1 = HighValue1.reset_index(drop=True)"
   ]
  },
  {
   "cell_type": "markdown",
   "metadata": {},
   "source": [
    "## Conclusion: AT20 new studios location recommendation"
   ]
  },
  {
   "cell_type": "markdown",
   "metadata": {},
   "source": [
    "#### MTR Stations in Group 'New Development Area'"
   ]
  },
  {
   "cell_type": "code",
   "execution_count": 128,
   "metadata": {},
   "outputs": [
    {
     "data": {
      "text/plain": [
       "0    MTR Yau Tong station\n",
       "1    MTR Chai Wan station\n",
       "2     MTR Lam Tin station\n",
       "Name: MTRStation, dtype: object"
      ]
     },
     "execution_count": 128,
     "metadata": {},
     "output_type": "execute_result"
    }
   ],
   "source": [
    "NewDev1.loc[0:2,'MTRStation'] #top 3 MTR stations with the highest 'PeoplePerGym' value"
   ]
  },
  {
   "cell_type": "markdown",
   "metadata": {},
   "source": [
    "#### MTR Stations in Group 'Traditional Residential Area'"
   ]
  },
  {
   "cell_type": "code",
   "execution_count": 129,
   "metadata": {},
   "outputs": [
    {
     "data": {
      "text/plain": [
       "0    MTR Cheung Sha Wan station\n",
       "1      MTR Shau Kei Wan station\n",
       "2      MTR Diamond Hill station\n",
       "Name: MTRStation, dtype: object"
      ]
     },
     "execution_count": 129,
     "metadata": {},
     "output_type": "execute_result"
    }
   ],
   "source": [
    "TradRes1.loc[0:2,'MTRStation'] #top 3 MTR stations with the highest 'PeoplePerGym' value"
   ]
  },
  {
   "cell_type": "markdown",
   "metadata": {},
   "source": [
    "#### MTR Stations in Group 'High Value Central Area"
   ]
  },
  {
   "cell_type": "code",
   "execution_count": 130,
   "metadata": {},
   "outputs": [
    {
     "data": {
      "text/plain": [
       "0          MTR Whampoa station\n",
       "1         MTR Mong Kok station\n",
       "2    MTR Prince Edward station\n",
       "Name: MTRStation, dtype: object"
      ]
     },
     "execution_count": 130,
     "metadata": {},
     "output_type": "execute_result"
    }
   ],
   "source": [
    "HighValue1.loc[0:2,'MTRStation'] #top 3 MTR stations with the highest 'PeoplePerGym' value"
   ]
  },
  {
   "cell_type": "code",
   "execution_count": 134,
   "metadata": {},
   "outputs": [
    {
     "data": {
      "text/html": [
       "<div>\n",
       "<style scoped>\n",
       "    .dataframe tbody tr th:only-of-type {\n",
       "        vertical-align: middle;\n",
       "    }\n",
       "\n",
       "    .dataframe tbody tr th {\n",
       "        vertical-align: top;\n",
       "    }\n",
       "\n",
       "    .dataframe thead th {\n",
       "        text-align: right;\n",
       "    }\n",
       "</style>\n",
       "<table border=\"1\" class=\"dataframe\">\n",
       "  <thead>\n",
       "    <tr style=\"text-align: right;\">\n",
       "      <th></th>\n",
       "      <th>MTRStation</th>\n",
       "      <th>count</th>\n",
       "      <th>District</th>\n",
       "      <th>Pop_density</th>\n",
       "      <th>PeoplePerGym</th>\n",
       "    </tr>\n",
       "  </thead>\n",
       "  <tbody>\n",
       "    <tr>\n",
       "      <td>0</td>\n",
       "      <td>MTR Whampoa station</td>\n",
       "      <td>11</td>\n",
       "      <td>Kowloon City</td>\n",
       "      <td>40194.70</td>\n",
       "      <td>25829.053820</td>\n",
       "    </tr>\n",
       "    <tr>\n",
       "      <td>1</td>\n",
       "      <td>MTR Mong Kok station</td>\n",
       "      <td>18</td>\n",
       "      <td>Yau Tsim Mong</td>\n",
       "      <td>44864.09</td>\n",
       "      <td>17618.086944</td>\n",
       "    </tr>\n",
       "    <tr>\n",
       "      <td>2</td>\n",
       "      <td>MTR Prince Edward station</td>\n",
       "      <td>18</td>\n",
       "      <td>Yau Tsim Mong</td>\n",
       "      <td>44864.09</td>\n",
       "      <td>17618.086944</td>\n",
       "    </tr>\n",
       "  </tbody>\n",
       "</table>\n",
       "</div>"
      ],
      "text/plain": [
       "                  MTRStation  count       District  Pop_density  PeoplePerGym\n",
       "0        MTR Whampoa station     11   Kowloon City     40194.70  25829.053820\n",
       "1       MTR Mong Kok station     18  Yau Tsim Mong     44864.09  17618.086944\n",
       "2  MTR Prince Edward station     18  Yau Tsim Mong     44864.09  17618.086944"
      ]
     },
     "execution_count": 134,
     "metadata": {},
     "output_type": "execute_result"
    }
   ],
   "source": [
    "HighValue1.head(3)"
   ]
  },
  {
   "cell_type": "code",
   "execution_count": null,
   "metadata": {},
   "outputs": [],
   "source": []
  }
 ],
 "metadata": {
  "kernelspec": {
   "display_name": "Python 3",
   "language": "python",
   "name": "python3"
  },
  "language_info": {
   "codemirror_mode": {
    "name": "ipython",
    "version": 3
   },
   "file_extension": ".py",
   "mimetype": "text/x-python",
   "name": "python",
   "nbconvert_exporter": "python",
   "pygments_lexer": "ipython3",
   "version": "3.7.3"
  }
 },
 "nbformat": 4,
 "nbformat_minor": 2
}
